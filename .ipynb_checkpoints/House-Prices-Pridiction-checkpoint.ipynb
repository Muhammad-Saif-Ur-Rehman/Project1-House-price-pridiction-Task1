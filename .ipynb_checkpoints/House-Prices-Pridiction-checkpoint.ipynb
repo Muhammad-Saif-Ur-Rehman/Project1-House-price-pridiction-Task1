{
 "cells": [
  {
   "cell_type": "markdown",
   "id": "276252ac-4f92-489b-a0a5-417e47eed119",
   "metadata": {},
   "source": [
    "# **Importing Libraries**"
   ]
  },
  {
   "cell_type": "code",
   "execution_count": 14,
   "id": "ca87841e-0bad-4e2b-9378-1ab10462ed6c",
   "metadata": {},
   "outputs": [
    {
     "name": "stderr",
     "output_type": "stream",
     "text": [
      "Python was not found; run without arguments to install from the Microsoft Store, or disable this shortcut from Settings > Manage App Execution Aliases.\n"
     ]
    }
   ],
   "source": [
    "import tensorflow as tf\n",
    "# import tensorflow_decision_forests as tfdf\n",
    "import pandas as pd\n",
    "import seaborn as sns\n",
    "import matplotlib.pyplot as plt"
   ]
  },
  {
   "cell_type": "markdown",
   "id": "74b78fed-8e91-429b-8272-3c0c762b169c",
   "metadata": {},
   "source": [
    "# **Load the Dataset**"
   ]
  },
  {
   "cell_type": "code",
   "execution_count": null,
   "id": "e5c5f00c-c04b-467d-9400-eb770aaf7719",
   "metadata": {},
   "outputs": [],
   "source": [
    "dataset = pd.read_csv(\"train.csv\")"
   ]
  },
  {
   "cell_type": "code",
   "execution_count": null,
   "id": "ec8e67ae-cb08-4cf4-b11e-81cee6a62aa2",
   "metadata": {},
   "outputs": [],
   "source": [
    "dataset.head(5)"
   ]
  },
  {
   "cell_type": "code",
   "execution_count": null,
   "id": "89888d62-1c03-4ecb-9121-c7a2fbd63e98",
   "metadata": {},
   "outputs": [],
   "source": [
    "dataset = dataset.drop(['Id'], axis = 1)\n",
    "dataset.head(5)"
   ]
  },
  {
   "cell_type": "code",
   "execution_count": null,
   "id": "318e2f77-74e6-4a99-a91e-52a76b8cdff3",
   "metadata": {},
   "outputs": [],
   "source": [
    "dataset.info()"
   ]
  },
  {
   "cell_type": "markdown",
   "id": "f082314a-8372-4e50-a44b-2715697c7db2",
   "metadata": {},
   "source": [
    "# **House Price Distribution**"
   ]
  },
  {
   "cell_type": "code",
   "execution_count": null,
   "id": "1ffe4b79-2f54-4645-8934-c31f3fc06212",
   "metadata": {},
   "outputs": [],
   "source": [
    "print(dataset['SalePrice'].describe())\n",
    "plt.figure(figsize = (9,8))\n",
    "sns.distplot(dataset['SalePrice'],color = 'y', bins = 100 , hist = {'alpha' : 0.4} )"
   ]
  },
  {
   "cell_type": "markdown",
   "id": "2a890e57-12cd-4e11-8681-5edfdc84ed56",
   "metadata": {},
   "source": [
    "# **Numerical Data Distrubution**"
   ]
  },
  {
   "cell_type": "code",
   "execution_count": null,
   "id": "3e58c552-7d61-4b80-ae90-321b7dca5160",
   "metadata": {},
   "outputs": [],
   "source": [
    "print(dataset.dtypes.unique())"
   ]
  },
  {
   "cell_type": "code",
   "execution_count": null,
   "id": "eefbf5b1-fc04-44c7-a5ad-2d68900d1cfe",
   "metadata": {},
   "outputs": [],
   "source": [
    "data_num = dataset.select_dtypes('int64','float64')\n",
    "data_num.head(5)"
   ]
  },
  {
   "cell_type": "code",
   "execution_count": null,
   "id": "e5502026-d3eb-44f8-96c0-e92470d7d321",
   "metadata": {},
   "outputs": [],
   "source": [
    "data_num.hist(figsize = (16,20), bins = 50, xlabelsize = 8, ylabelsize = 10)"
   ]
  },
  {
   "cell_type": "markdown",
   "id": "dd6a2d6b-7ec1-4bb0-aa05-fd29021eda08",
   "metadata": {},
   "source": [
    "# **Prepare the dataset**"
   ]
  },
  {
   "cell_type": "code",
   "execution_count": null,
   "id": "2aac9e99-3674-4855-9f5a-5e7067a8c04c",
   "metadata": {},
   "outputs": [],
   "source": [
    "import numpy as np\n",
    "\n",
    "def split_data(dataset, test_ratio = 0.30):\n",
    "    data_indices = np.random.rand(len(dataset)) < test_ratio\n",
    "    return dataset[~ data_indices], dataset[data_indices]\n",
    "\n",
    "train_data, valid_data = split_data(dataset)\n",
    "print(\"{} is total length of training data and {} is total length of test data. \".format(len(train_data), len(valid_data)))"
   ]
  },
  {
   "cell_type": "markdown",
   "id": "29b2bf07-de5a-4227-97a4-5138e4674964",
   "metadata": {},
   "source": [
    "# **Select a Model**"
   ]
  },
  {
   "cell_type": "code",
   "execution_count": null,
   "id": "833b71ae-35eb-4f27-968f-0682cee4efa1",
   "metadata": {},
   "outputs": [],
   "source": []
  },
  {
   "cell_type": "markdown",
   "id": "ab6ded6b-2f7a-48d0-a847-9418a7a7eace",
   "metadata": {},
   "source": [
    "# **How can I configure them?**"
   ]
  },
  {
   "cell_type": "code",
   "execution_count": null,
   "id": "eb18b329-423a-4abf-a64d-431efd40fdf3",
   "metadata": {},
   "outputs": [],
   "source": []
  },
  {
   "cell_type": "markdown",
   "id": "c0433630-c352-4670-8d35-a417cbf57af1",
   "metadata": {},
   "source": [
    "# **Create a Random Forest**"
   ]
  },
  {
   "cell_type": "code",
   "execution_count": null,
   "id": "593370b1-f0e9-4ba0-83c1-696c348a78fa",
   "metadata": {},
   "outputs": [],
   "source": []
  },
  {
   "cell_type": "markdown",
   "id": "10884ca4-3c6c-4de9-b571-0d84e47b98be",
   "metadata": {},
   "source": [
    "# **Train the model**"
   ]
  },
  {
   "cell_type": "code",
   "execution_count": null,
   "id": "643a14e2-8d0c-48b3-8be1-99b35219709f",
   "metadata": {},
   "outputs": [],
   "source": []
  },
  {
   "cell_type": "markdown",
   "id": "c32c8d24-00fb-4706-a138-55cad206b126",
   "metadata": {},
   "source": [
    "# **Visualize the model**"
   ]
  },
  {
   "cell_type": "code",
   "execution_count": null,
   "id": "d8517970-664e-455d-abdf-05d4f7d62f2e",
   "metadata": {},
   "outputs": [],
   "source": []
  },
  {
   "cell_type": "markdown",
   "id": "e9c7a328-1823-4961-aac8-e80e6aa47a48",
   "metadata": {},
   "source": [
    "# **Evaluate the model on the Out of bag (OOB) data and the validation dataset**"
   ]
  },
  {
   "cell_type": "code",
   "execution_count": null,
   "id": "e038ce05-7ad2-4c98-927b-a08619810e94",
   "metadata": {},
   "outputs": [],
   "source": []
  },
  {
   "cell_type": "markdown",
   "id": "70eff7d9-cf0d-4c94-ae49-d0c6796c7fa2",
   "metadata": {},
   "source": [
    "# **Variable Importances**"
   ]
  },
  {
   "cell_type": "code",
   "execution_count": null,
   "id": "ff7aa0b1-ed0b-435f-98ec-dafbce748d24",
   "metadata": {},
   "outputs": [],
   "source": []
  },
  {
   "cell_type": "markdown",
   "id": "8db6c0a9-de9c-49b5-a2d5-8b548cfda743",
   "metadata": {},
   "source": [
    "# **Submission**"
   ]
  },
  {
   "cell_type": "code",
   "execution_count": null,
   "id": "8b24a18e-53db-41ab-921f-7179d4ca3903",
   "metadata": {},
   "outputs": [],
   "source": []
  }
 ],
 "metadata": {
  "kernelspec": {
   "display_name": "Python 3 (ipykernel)",
   "language": "python",
   "name": "python3"
  },
  "language_info": {
   "codemirror_mode": {
    "name": "ipython",
    "version": 3
   },
   "file_extension": ".py",
   "mimetype": "text/x-python",
   "name": "python",
   "nbconvert_exporter": "python",
   "pygments_lexer": "ipython3",
   "version": "3.10.4"
  }
 },
 "nbformat": 4,
 "nbformat_minor": 5
}
